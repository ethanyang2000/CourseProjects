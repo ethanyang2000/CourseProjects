{
 "cells": [
  {
   "cell_type": "markdown",
   "id": "e5905a69",
   "metadata": {},
   "source": [
    "# CSE6242 - HW3 - Q1"
   ]
  },
  {
   "cell_type": "markdown",
   "id": "09289981",
   "metadata": {},
   "source": [
    "Pyspark Imports"
   ]
  },
  {
   "cell_type": "code",
   "execution_count": 1,
   "id": "139318cb",
   "metadata": {},
   "outputs": [],
   "source": [
    "### DO NOT MODIFY THIS CELL ###\n",
    "import pyspark\n",
    "from pyspark.sql import SQLContext\n",
    "from pyspark.sql.functions import hour, when, col, date_format, to_timestamp, round, coalesce"
   ]
  },
  {
   "cell_type": "markdown",
   "id": "3fd9e0f8",
   "metadata": {},
   "source": [
    "Initialize PySpark Context"
   ]
  },
  {
   "cell_type": "code",
   "execution_count": 2,
   "id": "b0c18c6c",
   "metadata": {},
   "outputs": [
    {
     "name": "stderr",
     "output_type": "stream",
     "text": [
      "Setting default log level to \"WARN\".\n",
      "To adjust logging level use sc.setLogLevel(newLevel). For SparkR, use setLogLevel(newLevel).\n",
      "23/10/29 18:26:02 WARN NativeCodeLoader: Unable to load native-hadoop library for your platform... using builtin-java classes where applicable\n",
      "/usr/local/lib/python3.9/dist-packages/pyspark/sql/context.py:113: FutureWarning: Deprecated in 3.0.0. Use SparkSession.builder.getOrCreate() instead.\n",
      "  warnings.warn(\n"
     ]
    }
   ],
   "source": [
    "### DO NOT MODIFY THIS CELL ###\n",
    "sc = pyspark.SparkContext(appName=\"HW3-Q1\")\n",
    "sqlContext = SQLContext(sc)"
   ]
  },
  {
   "cell_type": "markdown",
   "id": "d68ae314",
   "metadata": {},
   "source": [
    "Define function for loading data"
   ]
  },
  {
   "cell_type": "code",
   "execution_count": 3,
   "id": "7e5bbdda",
   "metadata": {},
   "outputs": [],
   "source": [
    "### DO NOT MODIFY THIS CELL ###\n",
    "def load_data():\n",
    "    df = sqlContext.read.option(\"header\",True) \\\n",
    "     .csv(\"yellow_tripdata_2019-01_short.csv\")\n",
    "    return df"
   ]
  },
  {
   "cell_type": "markdown",
   "id": "0d52409d",
   "metadata": {},
   "source": [
    "### Q1.a"
   ]
  },
  {
   "cell_type": "markdown",
   "id": "e43f6e00",
   "metadata": {},
   "source": [
    "Perform data casting to clean incoming dataset"
   ]
  },
  {
   "cell_type": "code",
   "execution_count": 4,
   "id": "11f801b4",
   "metadata": {},
   "outputs": [],
   "source": [
    "def clean_data(df):\n",
    "    '''\n",
    "    input: df a dataframe\n",
    "    output: df a dataframe with the all the original columns\n",
    "    '''\n",
    "    \n",
    "    # START YOUR CODE HERE ---------\n",
    "    df = df.withColumn(\"passenger_count\", df['passenger_count'].cast(\"integer\"))\n",
    "    df = df.withColumn(\"total_amount\", df['total_amount'].cast(\"float\"))\n",
    "    df = df.withColumn(\"tip_amount\", df['tip_amount'].cast(\"float\"))\n",
    "    df = df.withColumn(\"fare_amount\", df['fare_amount'].cast(\"float\"))\n",
    "    df = df.withColumn(\"trip_distance\", df['trip_distance'].cast(\"float\"))\n",
    "    df = df.withColumn(\"tpep_pickup_datetime\", to_timestamp(\"tpep_pickup_datetime\"))\n",
    "    df = df.withColumn(\"tpep_dropoff_datetime\", to_timestamp(\"tpep_dropoff_datetime\"))\n",
    "    \n",
    "    # END YOUR CODE HERE -----------\n",
    "    \n",
    "    return df"
   ]
  },
  {
   "cell_type": "markdown",
   "id": "d4f565d0",
   "metadata": {},
   "source": [
    "### Q1.b"
   ]
  },
  {
   "cell_type": "markdown",
   "id": "72b4f712",
   "metadata": {},
   "source": [
    "Find rate per person for based on how many passengers travel between pickup and dropoff locations. "
   ]
  },
  {
   "cell_type": "code",
   "execution_count": 5,
   "id": "4e115152",
   "metadata": {},
   "outputs": [],
   "source": [
    "def common_pair(df):\n",
    "    '''\n",
    "    input: df a dataframe\n",
    "    output: df a dataframe with following columns:\n",
    "            - PULocationID\n",
    "            - DOLocationID\n",
    "            - passenger_count\n",
    "            - per_person_rate\n",
    "            \n",
    "    per_person_rate is the total_amount per person for a given pair.\n",
    "    \n",
    "    '''    \n",
    "    # START YOUR CODE HERE ---------\n",
    "    df = df.filter(col(\"PULocationID\") != col(\"DOLocationID\"))\n",
    "    \n",
    "    grouped_df = df.groupBy(\"PULocationID\", \"DOLocationID\")\n",
    "    df = grouped_df.agg({\"passenger_count\": \"sum\", \"total_amount\": \"avg\"})\n",
    "\n",
    "    df = df.withColumnRenamed(\"sum(passenger_count)\", \"passenger_count\")\n",
    "    df = df.withColumnRenamed(\"avg(total_amount)\", \"per_person_rate\")\n",
    "    \n",
    "    df = df.orderBy([\"passenger_count\", \"per_person_rate\"], ascending=[False, False]).limit(10)\n",
    "    \n",
    "    # END YOUR CODE HERE -----------\n",
    "    \n",
    "    return df"
   ]
  },
  {
   "cell_type": "markdown",
   "id": "127574ab",
   "metadata": {},
   "source": [
    "### Q1.c"
   ]
  },
  {
   "cell_type": "markdown",
   "id": "36a8fd27",
   "metadata": {},
   "source": [
    "Find trips which trip distances generate the highest tip percentage."
   ]
  },
  {
   "cell_type": "code",
   "execution_count": 6,
   "id": "376c981c",
   "metadata": {},
   "outputs": [],
   "source": [
    "def distance_with_most_tip(df):\n",
    "    '''\n",
    "    input: df a dataframe\n",
    "    output: df a dataframe with following columns:\n",
    "            - trip_distance\n",
    "            - tip_percent\n",
    "            \n",
    "    trip_percent is the percent of tip out of fare_amount\n",
    "    \n",
    "    '''\n",
    "    \n",
    "    # START YOUR CODE HERE ---------\n",
    "    df = df.filter((col(\"fare_amount\") > 2) & (col(\"trip_distance\") > 0))    \n",
    "    df = df.withColumn(\"tip_p\", (col(\"tip_amount\") * 100) / col(\"fare_amount\"))\n",
    "    df = df.withColumn(\"trip_distance\", pyspark.sql.functions.ceil(col(\"trip_distance\")))\n",
    "    \n",
    "    group_df = df.groupBy(\"trip_distance\")\n",
    "    df = group_df.agg({\"tip_p\": \"avg\"})\n",
    "    df = df.orderBy(\"avg(tip_p)\", ascending=False).limit(15)\n",
    "    \n",
    "    df = df.withColumnRenamed(\"avg(tip_p)\", \"tip_percent\")    \n",
    "    # END YOUR CODE HERE -----------\n",
    "    \n",
    "    return df"
   ]
  },
  {
   "cell_type": "markdown",
   "id": "f0172fe6",
   "metadata": {},
   "source": [
    "### Q1.d"
   ]
  },
  {
   "cell_type": "markdown",
   "id": "4613c906",
   "metadata": {},
   "source": [
    "Determine the average speed at different times of day."
   ]
  },
  {
   "cell_type": "code",
   "execution_count": 21,
   "id": "abff9e24",
   "metadata": {},
   "outputs": [],
   "source": [
    "def time_with_most_traffic(df):\n",
    "    '''\n",
    "    input: df a dataframe\n",
    "    output: df a dataframe with following columns:\n",
    "            - time_of_day\n",
    "            - am_avg_speed\n",
    "            - pm_avg_speed\n",
    "            \n",
    "    trip_percent is the percent of tip out of fare_amount\n",
    "    \n",
    "    '''\n",
    "    \n",
    "    # START YOUR CODE HERE ---------\n",
    "    df = df.select(\"tpep_pickup_datetime\", \"tpep_dropoff_datetime\", \"trip_distance\")\n",
    "    df = df.withColumn(\"p_hour\", hour(\"tpep_pickup_datetime\"))\n",
    "    df = df.withColumn(\"time_diff\", (col(\"tpep_dropoff_datetime\").cast(\"double\")-col(\"tpep_pickup_datetime\").cast(\"double\"))/3600.0)\n",
    "    \n",
    "    df_am = df.filter(df[\"p_hour\"]<12)\n",
    "    df_am = df_am.withColumn(\"t_of_day\", date_format(df[\"tpep_pickup_datetime\"], \"KK\"))\n",
    "    df_pm = df.filter(df[\"p_hour\"]>=12)\n",
    "    df_pm = df_pm.withColumn(\"t_of_day\", date_format(df[\"tpep_pickup_datetime\"], \"KK\"))\n",
    "\n",
    "    df_am = df_am.groupBy(\"t_of_day\").agg({\"time_diff\":\"avg\", \"trip_distance\":\"avg\"})\n",
    "    df_pm = df_pm.groupBy(\"t_of_day\").agg({\"time_diff\":\"avg\", \"trip_distance\":\"avg\"})\n",
    "\n",
    "    df_am = df_am.withColumnRenamed(\"avg(time_diff)\", \"am_time\")\n",
    "    df_pm = df_pm.withColumnRenamed(\"avg(time_diff)\", \"pm_time\")\n",
    "\n",
    "    df_am = df_am.withColumnRenamed(\"avg(trip_distance)\", \"am_trip\")\n",
    "    df_pm = df_pm.withColumnRenamed(\"avg(trip_distance)\", \"pm_trip\")\n",
    "\n",
    "    df_am.show()\n",
    "    df_pm.show()\n",
    "\n",
    "    df = df_am.join(df_pm, df_am[\"t_of_day\"] == df_pm[\"t_of_day\"], \"full_outer\")\n",
    "\n",
    "    df = df.withColumn(\"am_avg_speed\", col(\"am_trip\")/col(\"am_time\"))\n",
    "    df = df.withColumn(\"pm_avg_speed\", col(\"pm_trip\")/col(\"pm_time\"))\n",
    "    df = df.withColumn(\"time_of_day\", when(df_am[\"t_of_day\"].isNull(), df_pm[\"t_of_day\"]).otherwise(df_am[\"t_of_day\"]))\n",
    "\n",
    "    df = df.select(df[\"time_of_day\"], \"am_avg_speed\", \"pm_avg_speed\")\n",
    "\n",
    "    df = df.orderBy(\"time_of_day\", ascending=True)\n",
    "    # END YOUR CODE HERE -----------\n",
    "    \n",
    "    return df"
   ]
  },
  {
   "cell_type": "markdown",
   "id": "34cbd7b9",
   "metadata": {},
   "source": [
    "### The below cells are for you to investigate your solutions and will not be graded\n",
    "## Ensure they are commented out prior to submitting to Gradescope to avoid errors"
   ]
  },
  {
   "cell_type": "code",
   "execution_count": null,
   "id": "e2a163e0-bd34-46fb-bdc8-b02bebf41922",
   "metadata": {},
   "outputs": [],
   "source": []
  }
 ],
 "metadata": {
  "kernelspec": {
   "display_name": "Python 3 (ipykernel)",
   "language": "python",
   "name": "python3"
  },
  "language_info": {
   "codemirror_mode": {
    "name": "ipython",
    "version": 3
   },
   "file_extension": ".py",
   "mimetype": "text/x-python",
   "name": "python",
   "nbconvert_exporter": "python",
   "pygments_lexer": "ipython3",
   "version": "3.9.2"
  }
 },
 "nbformat": 4,
 "nbformat_minor": 5
}
